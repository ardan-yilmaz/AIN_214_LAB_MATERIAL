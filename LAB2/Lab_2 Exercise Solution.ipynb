{
 "cells": [
  {
   "cell_type": "code",
   "execution_count": null,
   "id": "3110d4fd",
   "metadata": {},
   "outputs": [],
   "source": [
    "pd.read_sql('''\n",
    "SELECT c.name AS customer_name, \n",
    "    b.price * od.quantity AS payment\n",
    "\n",
    "FROM Books b, \n",
    "    Customers c, \n",
    "    Orders o, \n",
    "    OrderDetails od\n",
    "\n",
    "WHERE b.book_id = od.book_id \n",
    "    AND c.customer_id = o.customer_id\n",
    "    AND o.order_id = od.order_id\n",
    "''',conn)"
   ]
  }
 ],
 "metadata": {
  "kernelspec": {
   "display_name": "Python 3 (ipykernel)",
   "language": "python",
   "name": "python3"
  },
  "language_info": {
   "codemirror_mode": {
    "name": "ipython",
    "version": 3
   },
   "file_extension": ".py",
   "mimetype": "text/x-python",
   "name": "python",
   "nbconvert_exporter": "python",
   "pygments_lexer": "ipython3",
   "version": "3.9.12"
  }
 },
 "nbformat": 4,
 "nbformat_minor": 5
}
